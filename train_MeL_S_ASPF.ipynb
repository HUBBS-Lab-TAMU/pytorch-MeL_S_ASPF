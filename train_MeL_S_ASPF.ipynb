{
 "cells": [
  {
   "cell_type": "code",
   "execution_count": null,
   "metadata": {},
   "outputs": [],
   "source": [
    "# We tried to set the random seeds but we found that the results may still vary. As a result, we run every experiment 10 times and get the average result. \n",
    "# We are able to get comparable results & show the same tendency (e.g., enterface performs worst) as shown in the paper"
   ]
  },
  {
   "cell_type": "code",
   "execution_count": 22,
   "metadata": {},
   "outputs": [],
   "source": [
    "import torch\n",
    "# import pickle\n",
    "from dataset_classification import Train, Test\n",
    "from torch.utils.data import DataLoader\n",
    "from torch.autograd import Variable\n",
    "from dataset_SNN import Train_Siamese\n",
    "from model_Siamese import Siamese\n",
    "from model_classification import FNN\n",
    "import time\n",
    "import numpy as np\n",
    "import math\n",
    "import sys\n",
    "from sklearn import metrics\n",
    "import os\n",
    "import random\n",
    "import pandas as pd\n",
    "\n",
    "import warnings\n",
    "if not sys.warnoptions:\n",
    "    warnings.simplefilter(\"ignore\")\n",
    "\n",
    "np.set_printoptions(threshold=sys.maxsize)\n",
    "\n",
    "def max_key(score):  \n",
    "     v=list(score.values())\n",
    "     k=list(score.keys())\n",
    "     return k[v.index(max(v))]\n",
    "    \n",
    "def run(model_name):\n",
    "    trainID = ['Ses01F', 'Ses01M', 'Ses02F', 'Ses02M', 'Ses03F', 'Ses03M', 'Ses04F', 'Ses04M', 'Ses05F', 'Ses05M']\n",
    "    print (model_name)\n",
    "    \n",
    "    # g is the number of samples per speaker per emotion\n",
    "    for g in range(1, 11):\n",
    "        score_all = []\n",
    "        \n",
    "        # because we did not specify the random seeds, we run 10 times and calculate the average\n",
    "        for l in range(0, 10):\n",
    "            num_train = g\n",
    "            num_speaker = 5\n",
    "            gender = ['F', 'M']\n",
    "\n",
    "            lr = 0.0005\n",
    "            max_iter = 250\n",
    "            model_path = 'SNN_source_models/'+model_name\n",
    "\n",
    "            # load the data for the Siamese nn\n",
    "            trainSet = Train_Siamese('feature/iemocap_feature_processed.csv', trainID = trainID, num_sample = g, epoch = max_iter*128)\n",
    "            trainLoader = DataLoader(trainSet, batch_size=128, shuffle=False)\n",
    "\n",
    "            loss_fn = torch.nn.BCELoss(size_average=True)\n",
    "\n",
    "            net = Siamese()\n",
    "            net.load_state_dict(torch.load(model_path))\n",
    "\n",
    "            net.train()\n",
    "\n",
    "            optimizer = torch.optim.Adam(net.parameters(),lr = lr )\n",
    "            optimizer.zero_grad()\n",
    "\n",
    "            train_loss = []\n",
    "            loss_val = 0\n",
    "\n",
    "            for batch_id, (data1, data2, label, prob_return) in enumerate(trainLoader, 1):\n",
    "                if batch_id > max_iter:\n",
    "                    break\n",
    "                data1, data2, label = Variable(data1), Variable(data2), Variable(label)\n",
    "                optimizer.zero_grad()\n",
    "                output = net.forward(data1, data2)\n",
    "                loss = loss_fn(output, label)\n",
    "                loss_val += loss.item()\n",
    "                loss.backward()\n",
    "                optimizer.step()\n",
    "\n",
    "                # update the prob (likelihood in the paper) every 10 iterations. We don't update when there is only 1 sample per speaker per emotion because it's the only sample and updating is not necessary.\n",
    "                if (num_train != 1):\n",
    "                    if batch_id % 10 == 0:\n",
    "                        prob_tmp = []\n",
    "                        increase_tmp = []\n",
    "                        for k in range(0, len(output)):\n",
    "                            # if ((output[k][0] < 0.5 and label[k][0] == 1) or (output[k][0] > 0.5 and label[k][0] == 0)):\n",
    "                            prob_tmp.append(prob_return[k].tolist())\n",
    "                            increase_tmp.append( (abs(output[k][0] - label[k][0])*1).item() )              \n",
    "                        trainSet.update_prob(prob_list = prob_tmp, prob_increase = increase_tmp)\n",
    "\n",
    "\n",
    "\n",
    "            # initilize a new model and copy the weight of trained SNN to the new model\n",
    "            model = FNN()\n",
    "            pretrained_dict = net.state_dict()\n",
    "            model_dict = model.state_dict()\n",
    "            pretrained_dict = {k: v for k, v in pretrained_dict.items() if k in model_dict}\n",
    "            model_dict.update(pretrained_dict) \n",
    "            model.load_state_dict(model_dict)\n",
    "\n",
    "            # fine-tuning the model in the supervised way (same as MeL-S)\n",
    "            trainSet = Train('feature/iemocap_feature_processed.csv', trainID = trainID, num_sample = g, epoch = 200)\n",
    "            trainLoader = DataLoader(trainSet, batch_size=32, shuffle=False)\n",
    "            testSet = Test(datas_train = trainSet.datas_train, datas_test = trainSet.datas_test, num_classes = 3, trainID = trainID, num_sample = g)\n",
    "            testLoader = DataLoader(testSet, batch_size=1, shuffle=False)\n",
    "\n",
    "            loss_fn = torch.nn.CrossEntropyLoss()\n",
    "\n",
    "            optimizer = torch.optim.Adam(model.parameters(),lr = 0.001 )\n",
    "            optimizer.zero_grad()\n",
    "\n",
    "\n",
    "            for batch_id, (data, label) in enumerate(trainLoader, 0):\n",
    "                if batch_id > max_iter:\n",
    "                    break\n",
    "                data, label = Variable(data), Variable(label)\n",
    "                optimizer.zero_grad()\n",
    "                output = model.forward(data)\n",
    "                loss = loss_fn(output, label.squeeze().type(torch.LongTensor))\n",
    "                loss_val += loss.item()\n",
    "                loss.backward()\n",
    "                optimizer.step()\n",
    "\n",
    "            correct_list = []\n",
    "            pred_list = []\n",
    "            for test_id, (test, label) in enumerate(testLoader, 0):\n",
    "                # print (test_id)\n",
    "                test = Variable(test)\n",
    "                output = model.forward(test).data.cpu().numpy()[0]\n",
    "                predict = output.argmax()\n",
    "                pred_list.append(predict)\n",
    "                correct_list.append(int(label[0]))\n",
    "\n",
    "\n",
    "            score_all.append(metrics.recall_score(correct_list, pred_list, average='macro'))\n",
    "\n",
    "        print ('num of speaker:', g, end = ' ')\n",
    "        print(sum(score_all)/len(score_all))"
   ]
  },
  {
   "cell_type": "code",
   "execution_count": 24,
   "metadata": {},
   "outputs": [
    {
     "name": "stdout",
     "output_type": "stream",
     "text": [
      "enterface_base.pth\n",
      "num of speaker: 1 0.6512944732506367\n",
      "num of speaker: 2 0.6606824446574845\n",
      "num of speaker: 3 0.6990602817077493\n",
      "num of speaker: 4 0.6938101197106606\n",
      "num of speaker: 5 0.6839032227899295\n",
      "num of speaker: 6 0.7063660596132216\n",
      "num of speaker: 7 0.7110691098693207\n",
      "num of speaker: 8 0.7036592742369651\n",
      "num of speaker: 9 0.6927425697620886\n",
      "num of speaker: 10 0.7169763029737501\n"
     ]
    }
   ],
   "source": [
    "run('enterface_base.pth')"
   ]
  },
  {
   "cell_type": "code",
   "execution_count": 25,
   "metadata": {},
   "outputs": [
    {
     "name": "stdout",
     "output_type": "stream",
     "text": [
      "crema_d_base.pth\n",
      "num of speaker: 1 0.6654394584196694\n",
      "num of speaker: 2 0.7067077439289335\n",
      "num of speaker: 3 0.7126538511452551\n",
      "num of speaker: 4 0.7217098975160747\n",
      "num of speaker: 5 0.728233272366678\n",
      "num of speaker: 6 0.7244800224566923\n",
      "num of speaker: 7 0.7249402510538356\n",
      "num of speaker: 8 0.7283649826776304\n",
      "num of speaker: 9 0.7369849323790092\n",
      "num of speaker: 10 0.7422009407453278\n"
     ]
    }
   ],
   "source": [
    "run('crema_d_base.pth')"
   ]
  },
  {
   "cell_type": "code",
   "execution_count": 27,
   "metadata": {},
   "outputs": [
    {
     "name": "stdout",
     "output_type": "stream",
     "text": [
      "iemocap_base.pth\n",
      "num of speaker: 1 0.6933386267427688\n",
      "num of speaker: 2 0.722188810186686\n",
      "num of speaker: 3 0.7220840704075259\n",
      "num of speaker: 4 0.7202940292298237\n",
      "num of speaker: 5 0.7163047805417923\n",
      "num of speaker: 6 0.7199755012336541\n",
      "num of speaker: 7 0.7198059947501847\n",
      "num of speaker: 8 0.7118827561952297\n",
      "num of speaker: 9 0.7269342452853098\n",
      "num of speaker: 10 0.7324882876325387\n"
     ]
    }
   ],
   "source": [
    "run('iemocap_base.pth')"
   ]
  },
  {
   "cell_type": "code",
   "execution_count": 31,
   "metadata": {},
   "outputs": [
    {
     "name": "stdout",
     "output_type": "stream",
     "text": [
      "ravdess_base.pth\n",
      "num of speaker: 1 0.6940389615234261\n",
      "num of speaker: 2 0.7086199315819602\n",
      "num of speaker: 3 0.7075198956064279\n",
      "num of speaker: 4 0.7096136034966973\n",
      "num of speaker: 5 0.7099766926621729\n",
      "num of speaker: 6 0.7168912583192089\n",
      "num of speaker: 7 0.7340505629136954\n",
      "num of speaker: 8 0.7233612957541411\n",
      "num of speaker: 9 0.7302637691055484\n",
      "num of speaker: 10 0.7308347968730133\n"
     ]
    }
   ],
   "source": [
    "run('ravdess_base.pth')"
   ]
  },
  {
   "cell_type": "code",
   "execution_count": null,
   "metadata": {},
   "outputs": [],
   "source": []
  }
 ],
 "metadata": {
  "kernelspec": {
   "display_name": "Python 3",
   "language": "python",
   "name": "python3"
  },
  "language_info": {
   "codemirror_mode": {
    "name": "ipython",
    "version": 3
   },
   "file_extension": ".py",
   "mimetype": "text/x-python",
   "name": "python",
   "nbconvert_exporter": "python",
   "pygments_lexer": "ipython3",
   "version": "3.8.5"
  }
 },
 "nbformat": 4,
 "nbformat_minor": 2
}
